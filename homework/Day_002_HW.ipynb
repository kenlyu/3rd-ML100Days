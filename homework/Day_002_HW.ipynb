{
 "cells": [
  {
   "cell_type": "markdown",
   "metadata": {},
   "source": [
    "## [作業目標]\n",
    "了解機器學習適合應用的領域與範疇。"
   ]
  },
  {
   "cell_type": "markdown",
   "metadata": {},
   "source": [
    "## [作業重點]\n",
    "透過瞭解機器學習的運作方式，找出非常適用機器學習應用的領域及其原因"
   ]
  },
  {
   "cell_type": "markdown",
   "metadata": {},
   "source": [
    "## 作業\n",
    "請找出一個你認為機器學習可以發光發熱的領域並闡述原因? "
   ]
  },
  {
   "cell_type": "code",
   "execution_count": null,
   "metadata": {},
   "outputs": [],
   "source": [
    "   個人認為要能達到所謂「發光發熱」的等級，至少要有四個條件：\n",
    "    1.跟眾人有關\n",
    "    2.跟經濟發展有關\n",
    "    3.與解決重大問題有關\n",
    "    4.人力找不出規律而電腦找得出規律的資訊\n",
    "    \n",
    "    因此，我認為天體物理學的天體觀察可能會是機器學習發光發熱的領域。\n",
    "    1.因為它跟眾人有關─了解宇宙的過去與未來。\n",
    "    2.它與經濟發展有關─也許可以向外尋找資源與能源。\n",
    "    3.它與解決重大問題有關─也許可以偵測小行星飛掠軌跡，也許可以找到適合居住的系外星體，也許可以找到其他生命型態。\n",
    "    4.宇宙觀測的照片與數據多而雜，也許透過電腦可以找出窮人類畢生精力也無法找出的規律。"
   ]
  }
 ],
 "metadata": {
  "kernelspec": {
   "display_name": "Python 3",
   "language": "python",
   "name": "python3"
  },
  "language_info": {
   "codemirror_mode": {
    "name": "ipython",
    "version": 3
   },
   "file_extension": ".py",
   "mimetype": "text/x-python",
   "name": "python",
   "nbconvert_exporter": "python",
   "pygments_lexer": "ipython3",
   "version": "3.6.9"
  }
 },
 "nbformat": 4,
 "nbformat_minor": 2
}

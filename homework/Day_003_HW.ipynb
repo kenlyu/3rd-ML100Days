{
 "cells": [
  {
   "cell_type": "markdown",
   "metadata": {},
   "source": [
    "本作業選擇的文章為- \n",
    "出處：Apple machine learning journal\n",
    "題目：Language Identification from Very Short Strings \n",
    "作者：Input & Intelligence — Natural Language Processing Team\n",
    "\n",
    "1.專案的目標\n",
    "利用深度學習來增進判別使用者輸入的語言。\n",
    "由於手機使用者往往一次輸入甚少的字元或單字，同時又夾雜不同語言，因此該篇文章希望能在這樣的條件下，仍能識別出主體語言為何。\n",
    "\n",
    "2.使用的技術\n",
    "將語言識別(LID)問題model為字母等級連續標記問題。(character level sequence labeling problem)\n",
    "使用RNN運用在bi-directional long short-term memory (bi-LSTM)之架構。\n",
    "\n",
    "3.資料來源\n",
    "https://machinelearning.apple.com/2019/07/24/language-identification-from-very-short-strings.html"
   ]
  }
 ],
 "metadata": {
  "kernelspec": {
   "display_name": "Python 3",
   "language": "python",
   "name": "python3"
  },
  "language_info": {
   "codemirror_mode": {
    "name": "ipython",
    "version": 3
   },
   "file_extension": ".py",
   "mimetype": "text/x-python",
   "name": "python",
   "nbconvert_exporter": "python",
   "pygments_lexer": "ipython3",
   "version": "3.6.9"
  }
 },
 "nbformat": 4,
 "nbformat_minor": 2
}
